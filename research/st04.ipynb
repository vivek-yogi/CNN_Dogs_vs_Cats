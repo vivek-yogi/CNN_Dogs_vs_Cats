{
 "cells": [
  {
   "cell_type": "markdown",
   "metadata": {},
   "source": [
    "## Training"
   ]
  },
  {
   "cell_type": "code",
   "execution_count": 1,
   "metadata": {},
   "outputs": [
    {
     "data": {
      "text/plain": [
       "'c:\\\\Users\\\\Admin\\\\Projects\\\\CNN_Dogs_vs_Cats\\\\CNN_Dogs_vs_Cats\\\\research'"
      ]
     },
     "execution_count": 1,
     "metadata": {},
     "output_type": "execute_result"
    }
   ],
   "source": [
    "import os\n",
    "%pwd"
   ]
  },
  {
   "cell_type": "code",
   "execution_count": 2,
   "metadata": {},
   "outputs": [
    {
     "data": {
      "text/plain": [
       "'c:\\\\Users\\\\Admin\\\\Projects\\\\CNN_Dogs_vs_Cats\\\\CNN_Dogs_vs_Cats'"
      ]
     },
     "execution_count": 2,
     "metadata": {},
     "output_type": "execute_result"
    }
   ],
   "source": [
    "os.chdir('../')\n",
    "%pwd"
   ]
  },
  {
   "cell_type": "code",
   "execution_count": 3,
   "metadata": {},
   "outputs": [],
   "source": [
    "from dataclasses import dataclass\n",
    "from pathlib import Path\n",
    "\n",
    "\n",
    "@dataclass(frozen=True)\n",
    "class TrainingConfig:\n",
    "    root_dir: Path\n",
    "    trained_model_path: Path\n",
    "    updated_base_model_path: Path\n",
    "    training_data: Path\n",
    "    params_epochs: int\n",
    "    params_batch_size: int\n",
    "    params_is_augmentation: bool\n",
    "    params_image_size: list\n",
    "\n",
    "\n",
    "@dataclass(frozen=True)\n",
    "class PrepareCallbacksConfig:\n",
    "    root_dir: Path\n",
    "    tensorboard_root_log_dir: Path\n",
    "    checkpoint_model_filepath: Path"
   ]
  },
  {
   "cell_type": "code",
   "execution_count": 4,
   "metadata": {},
   "outputs": [],
   "source": [
    "from CNN_Classifier.constants import *\n",
    "from CNN_Classifier.utils import read_yaml, create_directories\n",
    "import tensorflow as tf"
   ]
  },
  {
   "cell_type": "code",
   "execution_count": 5,
   "metadata": {},
   "outputs": [],
   "source": [
    "class ConfigurationManager:\n",
    "    def __init__(\n",
    "        self, \n",
    "        config_filepath = CONFIG_FILE_PATH,\n",
    "        params_filepath = PARAMS_FILE_PATH):\n",
    "        self.config = read_yaml(config_filepath)\n",
    "        self.params = read_yaml(params_filepath)\n",
    "        create_directories([self.config.artifacts_root])\n",
    "\n",
    "    \n",
    "    def get_prepare_callback_config(self) -> PrepareCallbacksConfig:\n",
    "        config = self.config.prepare_callbacks\n",
    "        model_ckpt_dir = os.path.dirname(config.checkpoint_model_filepath)\n",
    "        create_directories([\n",
    "            Path(model_ckpt_dir),\n",
    "            Path(config.tensorboard_root_log_dir)\n",
    "        ])\n",
    "\n",
    "        prepare_callback_config = PrepareCallbacksConfig(\n",
    "            root_dir=Path(config.root_dir),\n",
    "            tensorboard_root_log_dir=Path(config.tensorboard_root_log_dir),\n",
    "            checkpoint_model_filepath=Path(config.checkpoint_model_filepath)\n",
    "        )\n",
    "\n",
    "        return prepare_callback_config\n",
    "    \n",
    "\n",
    "    def get_training_config(self) -> TrainingConfig:\n",
    "        training = self.config.training\n",
    "        prepare_base_model = self.config.prepare_base_model\n",
    "        params = self.params\n",
    "        training_data = os.path.join(self.config.data_ingestion.unzip_dir, \"PetImages\")\n",
    "        create_directories([\n",
    "            Path(training.root_dir)\n",
    "        ])\n",
    "\n",
    "        training_config = TrainingConfig(\n",
    "            root_dir=Path(training.root_dir),\n",
    "            trained_model_path=Path(training.trained_model_path),\n",
    "            updated_base_model_path=Path(prepare_base_model.updated_base_model_path),\n",
    "            training_data=Path(training_data),\n",
    "            params_epochs=params.EPOCHS,\n",
    "            params_batch_size=params.BATCH_SIZE,\n",
    "            params_is_augmentation=params.AUGMENTATION,\n",
    "            params_image_size=params.IMAGE_SIZE\n",
    "        )\n",
    "\n",
    "        return training_config"
   ]
  },
  {
   "cell_type": "code",
   "execution_count": 6,
   "metadata": {},
   "outputs": [],
   "source": [
    "import time\n",
    "class PrepareCallback:\n",
    "    def __init__(self, config: PrepareCallbacksConfig):\n",
    "        self.config = config\n",
    "\n",
    "    \n",
    "    @property\n",
    "    def _create_tb_callbacks(self):\n",
    "        timestamp = time.strftime(\"%Y-%m-%d-%H-%M-%S\")\n",
    "        tb_running_log_dir = os.path.join(\n",
    "            self.config.tensorboard_root_log_dir,\n",
    "            f\"tb_logs_at_{timestamp}\",\n",
    "        )\n",
    "        return tf.keras.callbacks.TensorBoard(log_dir=tb_running_log_dir)\n",
    "    \n",
    "\n",
    "    @property\n",
    "    def _create_ckpt_callbacks(self):\n",
    "        return tf.keras.callbacks.ModelCheckpoint(\n",
    "            filepath=str(self.config.checkpoint_model_filepath),\n",
    "            save_best_only=True\n",
    "        )\n",
    "\n",
    "\n",
    "    def get_tb_ckpt_callbacks(self):\n",
    "        return [\n",
    "            self._create_tb_callbacks,\n",
    "            self._create_ckpt_callbacks\n",
    "        ]"
   ]
  },
  {
   "cell_type": "code",
   "execution_count": 7,
   "metadata": {},
   "outputs": [],
   "source": [
    "import os\n",
    "import urllib.request as request\n",
    "from zipfile import ZipFile\n",
    "import tensorflow as tf\n",
    "import time"
   ]
  },
  {
   "cell_type": "code",
   "execution_count": 8,
   "metadata": {},
   "outputs": [],
   "source": [
    "class Training:\n",
    "    def __init__(self, config: TrainingConfig):\n",
    "        self.config = config\n",
    "    \n",
    "    def get_base_model(self):\n",
    "        self.model = tf.keras.models.load_model(\n",
    "            self.config.updated_base_model_path\n",
    "        )\n",
    "    \n",
    "    def train_valid_generator(self):\n",
    "\n",
    "        datagenerator_kwargs = dict(\n",
    "            rescale = 1./255,\n",
    "            validation_split=0.20\n",
    "        )\n",
    "\n",
    "        dataflow_kwargs = dict(\n",
    "            target_size=self.config.params_image_size[:-1],\n",
    "            batch_size=self.config.params_batch_size,\n",
    "            interpolation=\"bilinear\"\n",
    "        )\n",
    "\n",
    "        valid_datagenerator = tf.keras.preprocessing.image.ImageDataGenerator(\n",
    "            **datagenerator_kwargs\n",
    "        )\n",
    "\n",
    "        self.valid_generator = valid_datagenerator.flow_from_directory(\n",
    "            directory=self.config.training_data,\n",
    "            subset=\"validation\",\n",
    "            shuffle=False,\n",
    "            **dataflow_kwargs\n",
    "        )\n",
    "\n",
    "        if self.config.params_is_augmentation:\n",
    "            train_datagenerator = tf.keras.preprocessing.image.ImageDataGenerator(\n",
    "                rotation_range=40,\n",
    "                horizontal_flip=True,\n",
    "                width_shift_range=0.2,\n",
    "                height_shift_range=0.2,\n",
    "                shear_range=0.2,\n",
    "                zoom_range=0.2,\n",
    "                **datagenerator_kwargs\n",
    "            )\n",
    "        else:\n",
    "            train_datagenerator = valid_datagenerator\n",
    "\n",
    "        self.train_generator = train_datagenerator.flow_from_directory(\n",
    "            directory=self.config.training_data,\n",
    "            subset=\"training\",\n",
    "            shuffle=True,\n",
    "            **dataflow_kwargs\n",
    "        )\n",
    "\n",
    "    @staticmethod\n",
    "    def save_model(path: Path, model: tf.keras.Model):\n",
    "        model.save(path)\n",
    "\n",
    "\n",
    "    def train(self, callback_list: list):\n",
    "        self.steps_per_epoch = self.train_generator.samples // self.train_generator.batch_size\n",
    "        self.validation_steps = self.valid_generator.samples // self.valid_generator.batch_size\n",
    "\n",
    "        self.model.fit(\n",
    "            self.train_generator,\n",
    "            epochs=self.config.params_epochs,\n",
    "            steps_per_epoch=self.steps_per_epoch,\n",
    "            validation_steps=self.validation_steps,\n",
    "            validation_data=self.valid_generator,\n",
    "            callbacks=callback_list\n",
    "        )\n",
    "\n",
    "        self.save_model(\n",
    "            path=self.config.trained_model_path,\n",
    "            model=self.model\n",
    "        )"
   ]
  },
  {
   "cell_type": "code",
   "execution_count": 13,
   "metadata": {},
   "outputs": [
    {
     "name": "stdout",
     "output_type": "stream",
     "text": [
      "[2023-12-18 20:27:53,231:INFO:common:yaml file: C:\\Users\\Admin\\Projects\\CNN_Dogs_vs_Cats\\CNN_Dogs_vs_Cats\\config\\config.yaml loaded successfully]\n",
      "[2023-12-18 20:27:53,234:INFO:common:yaml file: params.yaml loaded successfully]\n",
      "[2023-12-18 20:27:53,235:INFO:common:created directory at: artifacts]\n",
      "[2023-12-18 20:27:53,237:INFO:common:created directory at: artifacts\\prepare_callbacks\\checkpoint_dir]\n",
      "[2023-12-18 20:27:53,238:INFO:common:created directory at: artifacts\\prepare_callbacks\\tensorboard_log_dir]\n",
      "[2023-12-18 20:27:53,239:INFO:common:created directory at: artifacts\\training]\n"
     ]
    },
    {
     "ename": "BoxKeyError",
     "evalue": "\"'ConfigBox' object has no attribute 'augmentation'\"",
     "output_type": "error",
     "traceback": [
      "\u001b[1;31m---------------------------------------------------------------------------\u001b[0m",
      "\u001b[1;31mKeyError\u001b[0m                                  Traceback (most recent call last)",
      "File \u001b[1;32mc:\\Users\\Admin\\anaconda3\\envs\\cnncls\\lib\\site-packages\\box\\box.py:503\u001b[0m, in \u001b[0;36mbox.box.Box.__getitem__\u001b[1;34m()\u001b[0m\n",
      "\u001b[1;31mKeyError\u001b[0m: 'AUGMENTATION'",
      "\nThe above exception was the direct cause of the following exception:\n",
      "\u001b[1;31mBoxKeyError\u001b[0m                               Traceback (most recent call last)",
      "File \u001b[1;32mc:\\Users\\Admin\\anaconda3\\envs\\cnncls\\lib\\site-packages\\box\\box.py:536\u001b[0m, in \u001b[0;36mbox.box.Box.__getattr__\u001b[1;34m()\u001b[0m\n",
      "File \u001b[1;32mc:\\Users\\Admin\\anaconda3\\envs\\cnncls\\lib\\site-packages\\box\\box.py:524\u001b[0m, in \u001b[0;36mbox.box.Box.__getitem__\u001b[1;34m()\u001b[0m\n",
      "\u001b[1;31mBoxKeyError\u001b[0m: \"'AUGMENTATION'\"",
      "\nDuring handling of the above exception, another exception occurred:\n",
      "\u001b[1;31mAttributeError\u001b[0m                            Traceback (most recent call last)",
      "File \u001b[1;32mc:\\Users\\Admin\\anaconda3\\envs\\cnncls\\lib\\site-packages\\box\\box.py:538\u001b[0m, in \u001b[0;36mbox.box.Box.__getattr__\u001b[1;34m()\u001b[0m\n",
      "\u001b[1;31mAttributeError\u001b[0m: 'ConfigBox' object has no attribute 'AUGMENTATION'",
      "\nThe above exception was the direct cause of the following exception:\n",
      "\u001b[1;31mBoxKeyError\u001b[0m                               Traceback (most recent call last)",
      "File \u001b[1;32mc:\\Users\\Admin\\anaconda3\\envs\\cnncls\\lib\\site-packages\\box\\config_box.py:28\u001b[0m, in \u001b[0;36mbox.config_box.ConfigBox.__getattr__\u001b[1;34m()\u001b[0m\n",
      "File \u001b[1;32mc:\\Users\\Admin\\anaconda3\\envs\\cnncls\\lib\\site-packages\\box\\box.py:552\u001b[0m, in \u001b[0;36mbox.box.Box.__getattr__\u001b[1;34m()\u001b[0m\n",
      "\u001b[1;31mBoxKeyError\u001b[0m: \"'ConfigBox' object has no attribute 'AUGMENTATION'\"",
      "\nDuring handling of the above exception, another exception occurred:\n",
      "\u001b[1;31mKeyError\u001b[0m                                  Traceback (most recent call last)",
      "File \u001b[1;32mc:\\Users\\Admin\\anaconda3\\envs\\cnncls\\lib\\site-packages\\box\\box.py:503\u001b[0m, in \u001b[0;36mbox.box.Box.__getitem__\u001b[1;34m()\u001b[0m\n",
      "\u001b[1;31mKeyError\u001b[0m: 'augmentation'",
      "\nThe above exception was the direct cause of the following exception:\n",
      "\u001b[1;31mBoxKeyError\u001b[0m                               Traceback (most recent call last)",
      "File \u001b[1;32mc:\\Users\\Admin\\anaconda3\\envs\\cnncls\\lib\\site-packages\\box\\box.py:536\u001b[0m, in \u001b[0;36mbox.box.Box.__getattr__\u001b[1;34m()\u001b[0m\n",
      "File \u001b[1;32mc:\\Users\\Admin\\anaconda3\\envs\\cnncls\\lib\\site-packages\\box\\box.py:524\u001b[0m, in \u001b[0;36mbox.box.Box.__getitem__\u001b[1;34m()\u001b[0m\n",
      "\u001b[1;31mBoxKeyError\u001b[0m: \"'augmentation'\"",
      "\nDuring handling of the above exception, another exception occurred:\n",
      "\u001b[1;31mAttributeError\u001b[0m                            Traceback (most recent call last)",
      "File \u001b[1;32mc:\\Users\\Admin\\anaconda3\\envs\\cnncls\\lib\\site-packages\\box\\box.py:538\u001b[0m, in \u001b[0;36mbox.box.Box.__getattr__\u001b[1;34m()\u001b[0m\n",
      "\u001b[1;31mAttributeError\u001b[0m: 'ConfigBox' object has no attribute 'augmentation'",
      "\nThe above exception was the direct cause of the following exception:\n",
      "\u001b[1;31mBoxKeyError\u001b[0m                               Traceback (most recent call last)",
      "\u001b[1;32mc:\\Users\\Admin\\Projects\\CNN_Dogs_vs_Cats\\CNN_Dogs_vs_Cats\\research\\st04.ipynb Cell 10\u001b[0m line \u001b[0;36m1\n\u001b[0;32m     <a href='vscode-notebook-cell:/c%3A/Users/Admin/Projects/CNN_Dogs_vs_Cats/CNN_Dogs_vs_Cats/research/st04.ipynb#X13sZmlsZQ%3D%3D?line=10'>11</a>\u001b[0m     training\u001b[39m.\u001b[39mtrain(callback_list\u001b[39m=\u001b[39mcallback_list )\n\u001b[0;32m     <a href='vscode-notebook-cell:/c%3A/Users/Admin/Projects/CNN_Dogs_vs_Cats/CNN_Dogs_vs_Cats/research/st04.ipynb#X13sZmlsZQ%3D%3D?line=12'>13</a>\u001b[0m \u001b[39mexcept\u001b[39;00m \u001b[39mException\u001b[39;00m \u001b[39mas\u001b[39;00m e:\n\u001b[1;32m---> <a href='vscode-notebook-cell:/c%3A/Users/Admin/Projects/CNN_Dogs_vs_Cats/CNN_Dogs_vs_Cats/research/st04.ipynb#X13sZmlsZQ%3D%3D?line=13'>14</a>\u001b[0m     \u001b[39mraise\u001b[39;00m e\n",
      "\u001b[1;32mc:\\Users\\Admin\\Projects\\CNN_Dogs_vs_Cats\\CNN_Dogs_vs_Cats\\research\\st04.ipynb Cell 10\u001b[0m line \u001b[0;36m7\n\u001b[0;32m      <a href='vscode-notebook-cell:/c%3A/Users/Admin/Projects/CNN_Dogs_vs_Cats/CNN_Dogs_vs_Cats/research/st04.ipynb#X13sZmlsZQ%3D%3D?line=3'>4</a>\u001b[0m prepare_callbacks \u001b[39m=\u001b[39m PrepareCallback(config\u001b[39m=\u001b[39mprepare_callbacks_config)\n\u001b[0;32m      <a href='vscode-notebook-cell:/c%3A/Users/Admin/Projects/CNN_Dogs_vs_Cats/CNN_Dogs_vs_Cats/research/st04.ipynb#X13sZmlsZQ%3D%3D?line=4'>5</a>\u001b[0m callback_list \u001b[39m=\u001b[39m prepare_callbacks\u001b[39m.\u001b[39mget_tb_ckpt_callbacks()\n\u001b[1;32m----> <a href='vscode-notebook-cell:/c%3A/Users/Admin/Projects/CNN_Dogs_vs_Cats/CNN_Dogs_vs_Cats/research/st04.ipynb#X13sZmlsZQ%3D%3D?line=6'>7</a>\u001b[0m training_config \u001b[39m=\u001b[39m config\u001b[39m.\u001b[39;49mget_training_config()\n\u001b[0;32m      <a href='vscode-notebook-cell:/c%3A/Users/Admin/Projects/CNN_Dogs_vs_Cats/CNN_Dogs_vs_Cats/research/st04.ipynb#X13sZmlsZQ%3D%3D?line=7'>8</a>\u001b[0m training \u001b[39m=\u001b[39m Training(config\u001b[39m=\u001b[39mtraining_config)\n\u001b[0;32m      <a href='vscode-notebook-cell:/c%3A/Users/Admin/Projects/CNN_Dogs_vs_Cats/CNN_Dogs_vs_Cats/research/st04.ipynb#X13sZmlsZQ%3D%3D?line=8'>9</a>\u001b[0m training\u001b[39m.\u001b[39mget_base_model()\n",
      "\u001b[1;32mc:\\Users\\Admin\\Projects\\CNN_Dogs_vs_Cats\\CNN_Dogs_vs_Cats\\research\\st04.ipynb Cell 10\u001b[0m line \u001b[0;36m4\n\u001b[0;32m     <a href='vscode-notebook-cell:/c%3A/Users/Admin/Projects/CNN_Dogs_vs_Cats/CNN_Dogs_vs_Cats/research/st04.ipynb#X13sZmlsZQ%3D%3D?line=31'>32</a>\u001b[0m training_data \u001b[39m=\u001b[39m os\u001b[39m.\u001b[39mpath\u001b[39m.\u001b[39mjoin(\u001b[39mself\u001b[39m\u001b[39m.\u001b[39mconfig\u001b[39m.\u001b[39mdata_ingestion\u001b[39m.\u001b[39munzip_dir, \u001b[39m\"\u001b[39m\u001b[39mPetImages\u001b[39m\u001b[39m\"\u001b[39m)\n\u001b[0;32m     <a href='vscode-notebook-cell:/c%3A/Users/Admin/Projects/CNN_Dogs_vs_Cats/CNN_Dogs_vs_Cats/research/st04.ipynb#X13sZmlsZQ%3D%3D?line=32'>33</a>\u001b[0m create_directories([\n\u001b[0;32m     <a href='vscode-notebook-cell:/c%3A/Users/Admin/Projects/CNN_Dogs_vs_Cats/CNN_Dogs_vs_Cats/research/st04.ipynb#X13sZmlsZQ%3D%3D?line=33'>34</a>\u001b[0m     Path(training\u001b[39m.\u001b[39mroot_dir)\n\u001b[0;32m     <a href='vscode-notebook-cell:/c%3A/Users/Admin/Projects/CNN_Dogs_vs_Cats/CNN_Dogs_vs_Cats/research/st04.ipynb#X13sZmlsZQ%3D%3D?line=34'>35</a>\u001b[0m ])\n\u001b[0;32m     <a href='vscode-notebook-cell:/c%3A/Users/Admin/Projects/CNN_Dogs_vs_Cats/CNN_Dogs_vs_Cats/research/st04.ipynb#X13sZmlsZQ%3D%3D?line=36'>37</a>\u001b[0m training_config \u001b[39m=\u001b[39m TrainingConfig(\n\u001b[0;32m     <a href='vscode-notebook-cell:/c%3A/Users/Admin/Projects/CNN_Dogs_vs_Cats/CNN_Dogs_vs_Cats/research/st04.ipynb#X13sZmlsZQ%3D%3D?line=37'>38</a>\u001b[0m     root_dir\u001b[39m=\u001b[39mPath(training\u001b[39m.\u001b[39mroot_dir),\n\u001b[0;32m     <a href='vscode-notebook-cell:/c%3A/Users/Admin/Projects/CNN_Dogs_vs_Cats/CNN_Dogs_vs_Cats/research/st04.ipynb#X13sZmlsZQ%3D%3D?line=38'>39</a>\u001b[0m     trained_model_path\u001b[39m=\u001b[39mPath(training\u001b[39m.\u001b[39mtrained_model_path),\n\u001b[0;32m     <a href='vscode-notebook-cell:/c%3A/Users/Admin/Projects/CNN_Dogs_vs_Cats/CNN_Dogs_vs_Cats/research/st04.ipynb#X13sZmlsZQ%3D%3D?line=39'>40</a>\u001b[0m     updated_base_model_path\u001b[39m=\u001b[39mPath(prepare_base_model\u001b[39m.\u001b[39mupdated_base_model_path),\n\u001b[0;32m     <a href='vscode-notebook-cell:/c%3A/Users/Admin/Projects/CNN_Dogs_vs_Cats/CNN_Dogs_vs_Cats/research/st04.ipynb#X13sZmlsZQ%3D%3D?line=40'>41</a>\u001b[0m     training_data\u001b[39m=\u001b[39mPath(training_data),\n\u001b[0;32m     <a href='vscode-notebook-cell:/c%3A/Users/Admin/Projects/CNN_Dogs_vs_Cats/CNN_Dogs_vs_Cats/research/st04.ipynb#X13sZmlsZQ%3D%3D?line=41'>42</a>\u001b[0m     params_epochs\u001b[39m=\u001b[39mparams\u001b[39m.\u001b[39mEPOCHS,\n\u001b[0;32m     <a href='vscode-notebook-cell:/c%3A/Users/Admin/Projects/CNN_Dogs_vs_Cats/CNN_Dogs_vs_Cats/research/st04.ipynb#X13sZmlsZQ%3D%3D?line=42'>43</a>\u001b[0m     params_batch_size\u001b[39m=\u001b[39mparams\u001b[39m.\u001b[39mBATCH_SIZE,\n\u001b[1;32m---> <a href='vscode-notebook-cell:/c%3A/Users/Admin/Projects/CNN_Dogs_vs_Cats/CNN_Dogs_vs_Cats/research/st04.ipynb#X13sZmlsZQ%3D%3D?line=43'>44</a>\u001b[0m     params_is_augmentation\u001b[39m=\u001b[39mparams\u001b[39m.\u001b[39;49mAUGMENTATION,\n\u001b[0;32m     <a href='vscode-notebook-cell:/c%3A/Users/Admin/Projects/CNN_Dogs_vs_Cats/CNN_Dogs_vs_Cats/research/st04.ipynb#X13sZmlsZQ%3D%3D?line=44'>45</a>\u001b[0m     params_image_size\u001b[39m=\u001b[39mparams\u001b[39m.\u001b[39mIMAGE_SIZE\n\u001b[0;32m     <a href='vscode-notebook-cell:/c%3A/Users/Admin/Projects/CNN_Dogs_vs_Cats/CNN_Dogs_vs_Cats/research/st04.ipynb#X13sZmlsZQ%3D%3D?line=45'>46</a>\u001b[0m )\n\u001b[0;32m     <a href='vscode-notebook-cell:/c%3A/Users/Admin/Projects/CNN_Dogs_vs_Cats/CNN_Dogs_vs_Cats/research/st04.ipynb#X13sZmlsZQ%3D%3D?line=47'>48</a>\u001b[0m \u001b[39mreturn\u001b[39;00m training_config\n",
      "File \u001b[1;32mc:\\Users\\Admin\\anaconda3\\envs\\cnncls\\lib\\site-packages\\box\\config_box.py:30\u001b[0m, in \u001b[0;36mbox.config_box.ConfigBox.__getattr__\u001b[1;34m()\u001b[0m\n",
      "File \u001b[1;32mc:\\Users\\Admin\\anaconda3\\envs\\cnncls\\lib\\site-packages\\box\\box.py:552\u001b[0m, in \u001b[0;36mbox.box.Box.__getattr__\u001b[1;34m()\u001b[0m\n",
      "\u001b[1;31mBoxKeyError\u001b[0m: \"'ConfigBox' object has no attribute 'augmentation'\""
     ]
    }
   ],
   "source": [
    "try:\n",
    "    config = ConfigurationManager()\n",
    "    prepare_callbacks_config = config.get_prepare_callback_config()\n",
    "    prepare_callbacks = PrepareCallback(config=prepare_callbacks_config)\n",
    "    callback_list = prepare_callbacks.get_tb_ckpt_callbacks()\n",
    "\n",
    "    training_config = config.get_training_config()\n",
    "    training = Training(config=training_config)\n",
    "    training.get_base_model()\n",
    "    training.train_valid_generator()\n",
    "    training.train(callback_list=callback_list )\n",
    "    \n",
    "except Exception as e:\n",
    "    raise e"
   ]
  },
  {
   "cell_type": "code",
   "execution_count": 10,
   "metadata": {},
   "outputs": [
    {
     "name": "stdout",
     "output_type": "stream",
     "text": [
      "[2023-12-18 00:41:14,148:INFO:common:yaml file: C:\\Users\\Admin\\Projects\\CNN_Dogs_vs_Cats\\CNN_Dogs_vs_Cats\\config\\config.yaml loaded successfully]\n",
      "[2023-12-18 00:41:14,159:INFO:common:yaml file: params.yaml loaded successfully]\n",
      "[2023-12-18 00:41:14,162:INFO:common:created directory at: artifacts]\n",
      "[2023-12-18 00:41:14,164:INFO:common:created directory at: artifacts\\prepare_callbacks\\checkpoint_dir]\n",
      "[2023-12-18 00:41:14,166:INFO:common:created directory at: artifacts\\prepare_callbacks\\tensorboard_log_dir]\n"
     ]
    },
    {
     "ename": "BoxKeyError",
     "evalue": "\"'ConfigBox' object has no attribute 'training'\"",
     "output_type": "error",
     "traceback": [
      "\u001b[1;31m---------------------------------------------------------------------------\u001b[0m",
      "\u001b[1;31mKeyError\u001b[0m                                  Traceback (most recent call last)",
      "File \u001b[1;32mc:\\Users\\Admin\\anaconda3\\envs\\cnncls\\lib\\site-packages\\box\\box.py:503\u001b[0m, in \u001b[0;36mbox.box.Box.__getitem__\u001b[1;34m()\u001b[0m\n",
      "\u001b[1;31mKeyError\u001b[0m: 'training'",
      "\nThe above exception was the direct cause of the following exception:\n",
      "\u001b[1;31mBoxKeyError\u001b[0m                               Traceback (most recent call last)",
      "File \u001b[1;32mc:\\Users\\Admin\\anaconda3\\envs\\cnncls\\lib\\site-packages\\box\\box.py:536\u001b[0m, in \u001b[0;36mbox.box.Box.__getattr__\u001b[1;34m()\u001b[0m\n",
      "File \u001b[1;32mc:\\Users\\Admin\\anaconda3\\envs\\cnncls\\lib\\site-packages\\box\\box.py:524\u001b[0m, in \u001b[0;36mbox.box.Box.__getitem__\u001b[1;34m()\u001b[0m\n",
      "\u001b[1;31mBoxKeyError\u001b[0m: \"'training'\"",
      "\nDuring handling of the above exception, another exception occurred:\n",
      "\u001b[1;31mAttributeError\u001b[0m                            Traceback (most recent call last)",
      "File \u001b[1;32mc:\\Users\\Admin\\anaconda3\\envs\\cnncls\\lib\\site-packages\\box\\box.py:538\u001b[0m, in \u001b[0;36mbox.box.Box.__getattr__\u001b[1;34m()\u001b[0m\n",
      "\u001b[1;31mAttributeError\u001b[0m: 'ConfigBox' object has no attribute 'training'",
      "\nThe above exception was the direct cause of the following exception:\n",
      "\u001b[1;31mBoxKeyError\u001b[0m                               Traceback (most recent call last)",
      "File \u001b[1;32mc:\\Users\\Admin\\anaconda3\\envs\\cnncls\\lib\\site-packages\\box\\config_box.py:28\u001b[0m, in \u001b[0;36mbox.config_box.ConfigBox.__getattr__\u001b[1;34m()\u001b[0m\n",
      "File \u001b[1;32mc:\\Users\\Admin\\anaconda3\\envs\\cnncls\\lib\\site-packages\\box\\box.py:552\u001b[0m, in \u001b[0;36mbox.box.Box.__getattr__\u001b[1;34m()\u001b[0m\n",
      "\u001b[1;31mBoxKeyError\u001b[0m: \"'ConfigBox' object has no attribute 'training'\"",
      "\nDuring handling of the above exception, another exception occurred:\n",
      "\u001b[1;31mKeyError\u001b[0m                                  Traceback (most recent call last)",
      "File \u001b[1;32mc:\\Users\\Admin\\anaconda3\\envs\\cnncls\\lib\\site-packages\\box\\box.py:503\u001b[0m, in \u001b[0;36mbox.box.Box.__getitem__\u001b[1;34m()\u001b[0m\n",
      "\u001b[1;31mKeyError\u001b[0m: 'training'",
      "\nThe above exception was the direct cause of the following exception:\n",
      "\u001b[1;31mBoxKeyError\u001b[0m                               Traceback (most recent call last)",
      "File \u001b[1;32mc:\\Users\\Admin\\anaconda3\\envs\\cnncls\\lib\\site-packages\\box\\box.py:536\u001b[0m, in \u001b[0;36mbox.box.Box.__getattr__\u001b[1;34m()\u001b[0m\n",
      "File \u001b[1;32mc:\\Users\\Admin\\anaconda3\\envs\\cnncls\\lib\\site-packages\\box\\box.py:524\u001b[0m, in \u001b[0;36mbox.box.Box.__getitem__\u001b[1;34m()\u001b[0m\n",
      "\u001b[1;31mBoxKeyError\u001b[0m: \"'training'\"",
      "\nDuring handling of the above exception, another exception occurred:\n",
      "\u001b[1;31mAttributeError\u001b[0m                            Traceback (most recent call last)",
      "File \u001b[1;32mc:\\Users\\Admin\\anaconda3\\envs\\cnncls\\lib\\site-packages\\box\\box.py:538\u001b[0m, in \u001b[0;36mbox.box.Box.__getattr__\u001b[1;34m()\u001b[0m\n",
      "\u001b[1;31mAttributeError\u001b[0m: 'ConfigBox' object has no attribute 'training'",
      "\nThe above exception was the direct cause of the following exception:\n",
      "\u001b[1;31mBoxKeyError\u001b[0m                               Traceback (most recent call last)",
      "\u001b[1;32mc:\\Users\\Admin\\Projects\\CNN_Dogs_vs_Cats\\CNN_Dogs_vs_Cats\\research\\st04.ipynb Cell 11\u001b[0m line \u001b[0;36m6\n\u001b[0;32m      <a href='vscode-notebook-cell:/c%3A/Users/Admin/Projects/CNN_Dogs_vs_Cats/CNN_Dogs_vs_Cats/research/st04.ipynb#X20sZmlsZQ%3D%3D?line=2'>3</a>\u001b[0m prepare_callbacks \u001b[39m=\u001b[39m PrepareCallback(config\u001b[39m=\u001b[39mprepare_callbacks_config)\n\u001b[0;32m      <a href='vscode-notebook-cell:/c%3A/Users/Admin/Projects/CNN_Dogs_vs_Cats/CNN_Dogs_vs_Cats/research/st04.ipynb#X20sZmlsZQ%3D%3D?line=3'>4</a>\u001b[0m callback_list \u001b[39m=\u001b[39m prepare_callbacks\u001b[39m.\u001b[39mget_tb_ckpt_callbacks()\n\u001b[1;32m----> <a href='vscode-notebook-cell:/c%3A/Users/Admin/Projects/CNN_Dogs_vs_Cats/CNN_Dogs_vs_Cats/research/st04.ipynb#X20sZmlsZQ%3D%3D?line=5'>6</a>\u001b[0m training_config \u001b[39m=\u001b[39m config\u001b[39m.\u001b[39;49mget_training_config()\n\u001b[0;32m      <a href='vscode-notebook-cell:/c%3A/Users/Admin/Projects/CNN_Dogs_vs_Cats/CNN_Dogs_vs_Cats/research/st04.ipynb#X20sZmlsZQ%3D%3D?line=6'>7</a>\u001b[0m training \u001b[39m=\u001b[39m Training(config\u001b[39m=\u001b[39mtraining_config)\n\u001b[0;32m      <a href='vscode-notebook-cell:/c%3A/Users/Admin/Projects/CNN_Dogs_vs_Cats/CNN_Dogs_vs_Cats/research/st04.ipynb#X20sZmlsZQ%3D%3D?line=7'>8</a>\u001b[0m training\u001b[39m.\u001b[39mget_base_model()\n",
      "\u001b[1;32mc:\\Users\\Admin\\Projects\\CNN_Dogs_vs_Cats\\CNN_Dogs_vs_Cats\\research\\st04.ipynb Cell 11\u001b[0m line \u001b[0;36m2\n\u001b[0;32m     <a href='vscode-notebook-cell:/c%3A/Users/Admin/Projects/CNN_Dogs_vs_Cats/CNN_Dogs_vs_Cats/research/st04.ipynb#X20sZmlsZQ%3D%3D?line=27'>28</a>\u001b[0m \u001b[39mdef\u001b[39;00m \u001b[39mget_training_config\u001b[39m(\u001b[39mself\u001b[39m) \u001b[39m-\u001b[39m\u001b[39m>\u001b[39m TrainingConfig:\n\u001b[1;32m---> <a href='vscode-notebook-cell:/c%3A/Users/Admin/Projects/CNN_Dogs_vs_Cats/CNN_Dogs_vs_Cats/research/st04.ipynb#X20sZmlsZQ%3D%3D?line=28'>29</a>\u001b[0m     training \u001b[39m=\u001b[39m \u001b[39mself\u001b[39;49m\u001b[39m.\u001b[39;49mconfig\u001b[39m.\u001b[39;49mtraining\n\u001b[0;32m     <a href='vscode-notebook-cell:/c%3A/Users/Admin/Projects/CNN_Dogs_vs_Cats/CNN_Dogs_vs_Cats/research/st04.ipynb#X20sZmlsZQ%3D%3D?line=29'>30</a>\u001b[0m     prepare_base_model \u001b[39m=\u001b[39m \u001b[39mself\u001b[39m\u001b[39m.\u001b[39mconfig\u001b[39m.\u001b[39mprepare_base_model\n\u001b[0;32m     <a href='vscode-notebook-cell:/c%3A/Users/Admin/Projects/CNN_Dogs_vs_Cats/CNN_Dogs_vs_Cats/research/st04.ipynb#X20sZmlsZQ%3D%3D?line=30'>31</a>\u001b[0m     params \u001b[39m=\u001b[39m \u001b[39mself\u001b[39m\u001b[39m.\u001b[39mparams\n",
      "File \u001b[1;32mc:\\Users\\Admin\\anaconda3\\envs\\cnncls\\lib\\site-packages\\box\\config_box.py:30\u001b[0m, in \u001b[0;36mbox.config_box.ConfigBox.__getattr__\u001b[1;34m()\u001b[0m\n",
      "File \u001b[1;32mc:\\Users\\Admin\\anaconda3\\envs\\cnncls\\lib\\site-packages\\box\\box.py:552\u001b[0m, in \u001b[0;36mbox.box.Box.__getattr__\u001b[1;34m()\u001b[0m\n",
      "\u001b[1;31mBoxKeyError\u001b[0m: \"'ConfigBox' object has no attribute 'training'\""
     ]
    }
   ],
   "source": [
    "config = ConfigurationManager()\n",
    "prepare_callbacks_config = config.get_prepare_callback_config()\n",
    "prepare_callbacks = PrepareCallback(config=prepare_callbacks_config)\n",
    "callback_list = prepare_callbacks.get_tb_ckpt_callbacks()\n",
    "\n",
    "training_config = config.get_training_config()\n",
    "training = Training(config=training_config)\n",
    "training.get_base_model()\n",
    "training.train_valid_generator()\n",
    "training.train(callback_list=callback_list )"
   ]
  }
 ],
 "metadata": {
  "kernelspec": {
   "display_name": "cnncls",
   "language": "python",
   "name": "python3"
  },
  "language_info": {
   "codemirror_mode": {
    "name": "ipython",
    "version": 3
   },
   "file_extension": ".py",
   "mimetype": "text/x-python",
   "name": "python",
   "nbconvert_exporter": "python",
   "pygments_lexer": "ipython3",
   "version": "3.8.18"
  }
 },
 "nbformat": 4,
 "nbformat_minor": 2
}
